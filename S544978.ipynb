{
 "cells": [
  {
   "cell_type": "markdown",
   "id": "38fbcfb9-8504-4262-a6b5-5258469352cb",
   "metadata": {},
   "source": [
    "# Eden Anderson 44620 - Module 2 \n",
    "Question 10"
   ]
  },
  {
   "cell_type": "markdown",
   "id": "fe716b48-9734-452d-8ddd-f9581e797926",
   "metadata": {},
   "source": [
    "10. Create a new Jupyter Notebook (the name of the notebook should be your S number). Add a Markdown cell that contains your name. Add a Code cell and write Python that uses loops to draw the following pattern:\n",
    "\n",
    "```\n",
    "*      *\n",
    "**    **\n",
    "***  ***\n",
    "********\n",
    "```\n",
    "Make sure to add and submit both the new notebook and the changes to this notebook for this assignment."
   ]
  },
  {
   "cell_type": "code",
   "execution_count": 1,
   "id": "a1272dae-9506-4716-b66c-7333b231f5e5",
   "metadata": {},
   "outputs": [
    {
     "name": "stdout",
     "output_type": "stream",
     "text": [
      "*        *\n",
      "**      **\n",
      "***    ***\n",
      "****  ****\n"
     ]
    }
   ],
   "source": [
    "rows = 4\n",
    "n = rows\n",
    "\n",
    "for i in range(n):\n",
    "    for j in range(i+1):\n",
    "        print('*', end='')\n",
    "    for j in range(i, n):\n",
    "        print(' ', end='')   \n",
    "    for j in range(i, n):\n",
    "        print(' ', end='')\n",
    "    for j in range(i+1):\n",
    "        print(\"*\", end=\"\")\n",
    "    print()"
   ]
  },
  {
   "cell_type": "code",
   "execution_count": null,
   "id": "56765b0e-31e7-4443-bafa-c62f520aef11",
   "metadata": {},
   "outputs": [],
   "source": []
  }
 ],
 "metadata": {
  "kernelspec": {
   "display_name": "Python 3 (ipykernel)",
   "language": "python",
   "name": "python3"
  },
  "language_info": {
   "codemirror_mode": {
    "name": "ipython",
    "version": 3
   },
   "file_extension": ".py",
   "mimetype": "text/x-python",
   "name": "python",
   "nbconvert_exporter": "python",
   "pygments_lexer": "ipython3",
   "version": "3.8.13"
  }
 },
 "nbformat": 4,
 "nbformat_minor": 5
}
